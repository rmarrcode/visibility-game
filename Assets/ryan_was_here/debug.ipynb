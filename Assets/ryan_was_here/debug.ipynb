{
 "cells": [
  {
   "cell_type": "code",
   "execution_count": 1,
   "metadata": {},
   "outputs": [
    {
     "name": "stderr",
     "output_type": "stream",
     "text": [
      "c:\\Users\\rmarr\\Documents\\python-envs\\3.7.0\\lib\\site-packages\\tqdm\\auto.py:21: TqdmWarning: IProgress not found. Please update jupyter and ipywidgets. See https://ipywidgets.readthedocs.io/en/stable/user_install.html\n",
      "  from .autonotebook import tqdm as notebook_tqdm\n"
     ]
    }
   ],
   "source": [
    "from mlagents_envs.environment import UnityEnvironment\n",
    "from mlagents_envs.side_channel.engine_configuration_channel import EngineConfigurationChannel\n",
    "from mlagents_envs.base_env import ActionTuple\n",
    "\n",
    "from debug_side_channel import DebugSideChannel\n",
    "from sac_agent import SACAgent, ReplayBuffer\n",
    "\n",
    "import torch\n",
    "import torch.nn as nn\n",
    "import torch.nn.functional as F\n",
    "from torch.distributions import Normal\n",
    "import sys\n",
    "import wandb\n",
    "import numpy as np\n",
    "import yaml\n",
    "import pandas as pd\n",
    "import torch.optim as optim"
   ]
  },
  {
   "cell_type": "code",
   "execution_count": 2,
   "metadata": {},
   "outputs": [],
   "source": [
    "with open('config/config.yaml', 'r') as file:\n",
    "    config = yaml.safe_load(file)\n",
    "agent_registry = []\n",
    "agent_registry.append(SACAgent(\n",
    "                        observation_size=config['observation_size'],\n",
    "                        action_dim=config['action_dim'], \n",
    "                        hidden_size=config['hidden_size'],\n",
    "                        learning_rate=config['learning_rate']))\n",
    "gamma = config['gamma']\n",
    "tau = config['tau']"
   ]
  },
  {
   "cell_type": "code",
   "execution_count": 3,
   "metadata": {},
   "outputs": [
    {
     "name": "stderr",
     "output_type": "stream",
     "text": [
      "Failed to detect the name of this notebook, you can set it manually with the WANDB_NOTEBOOK_NAME environment variable to enable code saving.\n",
      "\u001b[34m\u001b[1mwandb\u001b[0m: Currently logged in as: \u001b[33mr-marr747\u001b[0m. Use \u001b[1m`wandb login --relogin`\u001b[0m to force relogin\n"
     ]
    },
    {
     "data": {
      "text/html": [
       "wandb version 0.17.5 is available!  To upgrade, please run:\n",
       " $ pip install wandb --upgrade"
      ],
      "text/plain": [
       "<IPython.core.display.HTML object>"
      ]
     },
     "metadata": {},
     "output_type": "display_data"
    },
    {
     "data": {
      "text/html": [
       "Tracking run with wandb version 0.17.4"
      ],
      "text/plain": [
       "<IPython.core.display.HTML object>"
      ]
     },
     "metadata": {},
     "output_type": "display_data"
    },
    {
     "data": {
      "text/html": [
       "Run data is saved locally in <code>c:\\Users\\rmarr\\Documents\\ml-agents-dodgeball-env-ICT\\Assets\\Ryan was here\\wandb\\run-20240804_212854-3bcu9xmj</code>"
      ],
      "text/plain": [
       "<IPython.core.display.HTML object>"
      ]
     },
     "metadata": {},
     "output_type": "display_data"
    },
    {
     "data": {
      "text/html": [
       "Syncing run <strong><a href='https://wandb.ai/r-marr747/visibility-game/runs/3bcu9xmj' target=\"_blank\">northern-rain-457</a></strong> to <a href='https://wandb.ai/r-marr747/visibility-game' target=\"_blank\">Weights & Biases</a> (<a href='https://wandb.me/run' target=\"_blank\">docs</a>)<br/>"
      ],
      "text/plain": [
       "<IPython.core.display.HTML object>"
      ]
     },
     "metadata": {},
     "output_type": "display_data"
    },
    {
     "data": {
      "text/html": [
       " View project at <a href='https://wandb.ai/r-marr747/visibility-game' target=\"_blank\">https://wandb.ai/r-marr747/visibility-game</a>"
      ],
      "text/plain": [
       "<IPython.core.display.HTML object>"
      ]
     },
     "metadata": {},
     "output_type": "display_data"
    },
    {
     "data": {
      "text/html": [
       " View run at <a href='https://wandb.ai/r-marr747/visibility-game/runs/3bcu9xmj' target=\"_blank\">https://wandb.ai/r-marr747/visibility-game/runs/3bcu9xmj</a>"
      ],
      "text/plain": [
       "<IPython.core.display.HTML object>"
      ]
     },
     "metadata": {},
     "output_type": "display_data"
    }
   ],
   "source": [
    "if config['wandb_log']:\n",
    "    wandb.init(\n",
    "        project=\"visibility-game\",\n",
    "    )"
   ]
  },
  {
   "cell_type": "code",
   "execution_count": 4,
   "metadata": {},
   "outputs": [],
   "source": [
    "#repeat = 15\n",
    "root = 'tensors'\n",
    "#g_states = torch.cat((torch.load(f'{root}/states.pt'), torch.tensor([6.5000, 0.5000, 1.5000]).repeat(repeat, 1)), dim=0)\n",
    "#g_actions = torch.cat((torch.load(f'{root}/actions.pt'), torch.tensor([0,1,0,0,0]).repeat(repeat, 1)))\n",
    "#g_rewards = torch.cat((torch.load(f'{root}/rewards.pt') * 10, torch.tensor(10.).repeat(repeat)))\n",
    "#g_next_states = torch.cat((torch.load(f'{root}/next_states.pt'), torch.tensor([7.5000, 0.5000, 0.5000]).repeat(repeat, 1)), dim=0)\n",
    "#g_dones = torch.cat((torch.load(f'{root}/dones.pt'), torch.tensor(1.).repeat(repeat)))"
   ]
  },
  {
   "cell_type": "code",
   "execution_count": 5,
   "metadata": {},
   "outputs": [],
   "source": [
    "g_states = torch.load(f'{root}/states.pt')\n",
    "g_actions = torch.load(f'{root}/actions.pt')\n",
    "g_rewards = torch.load(f'{root}/rewards.pt')\n",
    "g_next_states = torch.load(f'{root}/next_states.pt')\n",
    "g_dones = torch.load(f'{root}/dones.pt')"
   ]
  },
  {
   "cell_type": "code",
   "execution_count": 6,
   "metadata": {},
   "outputs": [
    {
     "data": {
      "text/plain": [
       "tensor([1000, 1000, 1000, 1000])"
      ]
     },
     "execution_count": 6,
     "metadata": {},
     "output_type": "execute_result"
    }
   ],
   "source": [
    "g_rewards[g_rewards == 1000]"
   ]
  },
  {
   "cell_type": "code",
   "execution_count": 7,
   "metadata": {},
   "outputs": [
    {
     "name": "stdout",
     "output_type": "stream",
     "text": [
      "tensor([[6.5000, 0.5000, 1.5000],\n",
      "        [6.5000, 0.5000, 1.5000],\n",
      "        [6.5000, 0.5000, 1.5000],\n",
      "        [6.5000, 0.5000, 1.5000]])\n",
      "tensor([[0, 0, 0, 1, 0],\n",
      "        [0, 0, 0, 1, 0],\n",
      "        [0, 0, 0, 1, 0],\n",
      "        [0, 0, 0, 1, 0]])\n",
      "tensor([1000, 1000, 1000, 1000])\n",
      "tensor([[6.5000, 0.5000, 2.5000],\n",
      "        [6.5000, 0.5000, 2.5000],\n",
      "        [6.5000, 0.5000, 2.5000],\n",
      "        [6.5000, 0.5000, 2.5000]])\n",
      "tensor([1., 1., 1., 1.])\n"
     ]
    }
   ],
   "source": [
    "reward_idx = [g_rewards == 1000]\n",
    "no_rewards = g_actions[reward_idx].shape[0]\n",
    "print(g_states[reward_idx])\n",
    "print(g_actions[reward_idx])\n",
    "print(g_rewards[reward_idx])\n",
    "print(g_next_states[reward_idx])\n",
    "print(g_dones[reward_idx])\n"
   ]
  },
  {
   "cell_type": "code",
   "execution_count": 8,
   "metadata": {},
   "outputs": [
    {
     "data": {
      "text/plain": [
       "tensor([ 710, 1001,  625,  396,  122,  826])"
      ]
     },
     "execution_count": 8,
     "metadata": {},
     "output_type": "execute_result"
    }
   ],
   "source": [
    "torch.randperm(g_states.size(0))[:10-no_rewards]"
   ]
  },
  {
   "cell_type": "code",
   "execution_count": 9,
   "metadata": {},
   "outputs": [
    {
     "ename": "KeyboardInterrupt",
     "evalue": "",
     "output_type": "error",
     "traceback": [
      "\u001b[1;31m---------------------------------------------------------------------------\u001b[0m",
      "\u001b[1;31mKeyboardInterrupt\u001b[0m                         Traceback (most recent call last)",
      "\u001b[1;32m~\\AppData\\Local\\Temp\\ipykernel_17632\\4053993467.py\u001b[0m in \u001b[0;36m<module>\u001b[1;34m\u001b[0m\n\u001b[0;32m     21\u001b[0m     \u001b[1;32mwith\u001b[0m \u001b[0mtorch\u001b[0m\u001b[1;33m.\u001b[0m\u001b[0mno_grad\u001b[0m\u001b[1;33m(\u001b[0m\u001b[1;33m)\u001b[0m\u001b[1;33m:\u001b[0m\u001b[1;33m\u001b[0m\u001b[0m\n\u001b[0;32m     22\u001b[0m         \u001b[0mnext_actions\u001b[0m \u001b[1;33m=\u001b[0m \u001b[0magent\u001b[0m\u001b[1;33m.\u001b[0m\u001b[0mactor\u001b[0m\u001b[1;33m.\u001b[0m\u001b[0mforward\u001b[0m\u001b[1;33m(\u001b[0m\u001b[0mnext_states\u001b[0m\u001b[1;33m)\u001b[0m\u001b[1;33m\u001b[0m\u001b[0m\n\u001b[1;32m---> 23\u001b[1;33m         \u001b[0mnext_q1\u001b[0m \u001b[1;33m=\u001b[0m \u001b[0magent\u001b[0m\u001b[1;33m.\u001b[0m\u001b[0mtarget_critic1\u001b[0m\u001b[1;33m(\u001b[0m\u001b[0mnext_states\u001b[0m\u001b[1;33m)\u001b[0m\u001b[1;33m\u001b[0m\u001b[0m\n\u001b[0m\u001b[0;32m     24\u001b[0m         \u001b[0mnext_q2\u001b[0m \u001b[1;33m=\u001b[0m \u001b[0magent\u001b[0m\u001b[1;33m.\u001b[0m\u001b[0mtarget_critic2\u001b[0m\u001b[1;33m(\u001b[0m\u001b[0mnext_states\u001b[0m\u001b[1;33m)\u001b[0m\u001b[1;33m\u001b[0m\u001b[0m\n\u001b[0;32m     25\u001b[0m         state_values = (\n",
      "\u001b[1;32mc:\\Users\\rmarr\\Documents\\python-envs\\3.7.0\\lib\\site-packages\\torch\\nn\\modules\\module.py\u001b[0m in \u001b[0;36m_call_impl\u001b[1;34m(self, *input, **kwargs)\u001b[0m\n\u001b[0;32m    725\u001b[0m             \u001b[0mresult\u001b[0m \u001b[1;33m=\u001b[0m \u001b[0mself\u001b[0m\u001b[1;33m.\u001b[0m\u001b[0m_slow_forward\u001b[0m\u001b[1;33m(\u001b[0m\u001b[1;33m*\u001b[0m\u001b[0minput\u001b[0m\u001b[1;33m,\u001b[0m \u001b[1;33m**\u001b[0m\u001b[0mkwargs\u001b[0m\u001b[1;33m)\u001b[0m\u001b[1;33m\u001b[0m\u001b[0m\n\u001b[0;32m    726\u001b[0m         \u001b[1;32melse\u001b[0m\u001b[1;33m:\u001b[0m\u001b[1;33m\u001b[0m\u001b[0m\n\u001b[1;32m--> 727\u001b[1;33m             \u001b[0mresult\u001b[0m \u001b[1;33m=\u001b[0m \u001b[0mself\u001b[0m\u001b[1;33m.\u001b[0m\u001b[0mforward\u001b[0m\u001b[1;33m(\u001b[0m\u001b[1;33m*\u001b[0m\u001b[0minput\u001b[0m\u001b[1;33m,\u001b[0m \u001b[1;33m**\u001b[0m\u001b[0mkwargs\u001b[0m\u001b[1;33m)\u001b[0m\u001b[1;33m\u001b[0m\u001b[0m\n\u001b[0m\u001b[0;32m    728\u001b[0m         for hook in itertools.chain(\n\u001b[0;32m    729\u001b[0m                 \u001b[0m_global_forward_hooks\u001b[0m\u001b[1;33m.\u001b[0m\u001b[0mvalues\u001b[0m\u001b[1;33m(\u001b[0m\u001b[1;33m)\u001b[0m\u001b[1;33m,\u001b[0m\u001b[1;33m\u001b[0m\u001b[0m\n",
      "\u001b[1;32mc:\\Users\\rmarr\\Documents\\ml-agents-dodgeball-env-ICT\\Assets\\Ryan was here\\sac_agent.py\u001b[0m in \u001b[0;36mforward\u001b[1;34m(self, state)\u001b[0m\n\u001b[0;32m     39\u001b[0m     \u001b[1;32mdef\u001b[0m \u001b[0mforward\u001b[0m\u001b[1;33m(\u001b[0m\u001b[0mself\u001b[0m\u001b[1;33m,\u001b[0m \u001b[0mstate\u001b[0m\u001b[1;33m)\u001b[0m\u001b[1;33m:\u001b[0m\u001b[1;33m\u001b[0m\u001b[0m\n\u001b[0;32m     40\u001b[0m         \u001b[0mx\u001b[0m \u001b[1;33m=\u001b[0m \u001b[0mF\u001b[0m\u001b[1;33m.\u001b[0m\u001b[0mrelu\u001b[0m\u001b[1;33m(\u001b[0m\u001b[0mself\u001b[0m\u001b[1;33m.\u001b[0m\u001b[0mfc1\u001b[0m\u001b[1;33m(\u001b[0m\u001b[0mstate\u001b[0m\u001b[1;33m)\u001b[0m\u001b[1;33m)\u001b[0m\u001b[1;33m\u001b[0m\u001b[0m\n\u001b[1;32m---> 41\u001b[1;33m         \u001b[0mx\u001b[0m \u001b[1;33m=\u001b[0m \u001b[0mF\u001b[0m\u001b[1;33m.\u001b[0m\u001b[0mrelu\u001b[0m\u001b[1;33m(\u001b[0m\u001b[0mself\u001b[0m\u001b[1;33m.\u001b[0m\u001b[0mfc2\u001b[0m\u001b[1;33m(\u001b[0m\u001b[0mx\u001b[0m\u001b[1;33m)\u001b[0m\u001b[1;33m)\u001b[0m\u001b[1;33m\u001b[0m\u001b[0m\n\u001b[0m\u001b[0;32m     42\u001b[0m         \u001b[0mx\u001b[0m \u001b[1;33m=\u001b[0m \u001b[0mself\u001b[0m\u001b[1;33m.\u001b[0m\u001b[0mfc3\u001b[0m\u001b[1;33m(\u001b[0m\u001b[0mx\u001b[0m\u001b[1;33m)\u001b[0m\u001b[1;33m\u001b[0m\u001b[0m\n\u001b[0;32m     43\u001b[0m         \u001b[1;32mreturn\u001b[0m \u001b[0mx\u001b[0m\u001b[1;33m\u001b[0m\u001b[0m\n",
      "\u001b[1;32mc:\\Users\\rmarr\\Documents\\python-envs\\3.7.0\\lib\\site-packages\\torch\\nn\\functional.py\u001b[0m in \u001b[0;36mrelu\u001b[1;34m(input, inplace)\u001b[0m\n\u001b[0;32m   1134\u001b[0m         \u001b[0mresult\u001b[0m \u001b[1;33m=\u001b[0m \u001b[0mtorch\u001b[0m\u001b[1;33m.\u001b[0m\u001b[0mrelu_\u001b[0m\u001b[1;33m(\u001b[0m\u001b[0minput\u001b[0m\u001b[1;33m)\u001b[0m\u001b[1;33m\u001b[0m\u001b[0m\n\u001b[0;32m   1135\u001b[0m     \u001b[1;32melse\u001b[0m\u001b[1;33m:\u001b[0m\u001b[1;33m\u001b[0m\u001b[0m\n\u001b[1;32m-> 1136\u001b[1;33m         \u001b[0mresult\u001b[0m \u001b[1;33m=\u001b[0m \u001b[0mtorch\u001b[0m\u001b[1;33m.\u001b[0m\u001b[0mrelu\u001b[0m\u001b[1;33m(\u001b[0m\u001b[0minput\u001b[0m\u001b[1;33m)\u001b[0m\u001b[1;33m\u001b[0m\u001b[0m\n\u001b[0m\u001b[0;32m   1137\u001b[0m     \u001b[1;32mreturn\u001b[0m \u001b[0mresult\u001b[0m\u001b[1;33m\u001b[0m\u001b[0m\n\u001b[0;32m   1138\u001b[0m \u001b[1;33m\u001b[0m\u001b[0m\n",
      "\u001b[1;31mKeyboardInterrupt\u001b[0m: "
     ]
    }
   ],
   "source": [
    "l = g_states.shape[0]\n",
    "total_target = torch.tensor([0])\n",
    "total_q1 = torch.tensor([0])\n",
    "total_q2 = torch.tensor([0])\n",
    "total_actor_loss = torch.tensor([0]) \n",
    "for epoch in range(100000000):\n",
    "    agent = agent_registry[0]\n",
    "    sample_ind = torch.randperm(g_states.size(0))\n",
    "    states = g_states[sample_ind[:10]]\n",
    "    actions = g_actions[sample_ind[:10]]\n",
    "    rewards = g_rewards[sample_ind[:10]] / 1000\n",
    "    #if no_rewards < 10:\n",
    "        #states = torch.cat( (g_states[reward_idx][:10], g_states[torch.randperm(g_states.size(0))[:10-no_rewards]]), dim=0)\n",
    "        #actions = torch.cat( (g_actions[reward_idx][:10], g_actions[torch.randperm(g_actions.size(0))[:10-no_rewards]]), dim=0)\n",
    "        #rewards = torch.cat( (g_rewards[reward_idx][:10], g_rewards[torch.randperm(g_rewards.size(0))[:10-no_rewards]]), dim=0)\n",
    "        #actions = g_actions[reward_idx][:10] [torch.randperm(g_states.size(0))[:10]]\n",
    "        #rewards = g_rewards[reward_idx][:10] [torch.randperm(g_states.size(0))[:10]]\n",
    "    next_states = g_next_states[sample_ind[:10]] \n",
    "    dones = g_dones[sample_ind[:10]]\n",
    "\n",
    "    with torch.no_grad():\n",
    "        next_actions = agent.actor.forward(next_states)\n",
    "        next_q1 = agent.target_critic1(next_states)\n",
    "        next_q2 = agent.target_critic2(next_states)\n",
    "        state_values = (\n",
    "            next_actions * (torch.min(next_q1, next_q2))\n",
    "        ).sum(dim=1)\n",
    "        target_q = rewards + (1 - dones) * gamma * state_values \n",
    "\n",
    "    idx = actions.argmax(dim=1)\n",
    "    q1 = agent.critic1(states)#.gather(1, actions)\n",
    "    q1 = torch.gather(q1, dim=1, index=idx.unsqueeze(-1)).squeeze(-1) \n",
    "    q2 = agent.critic2(states)#.gather(1, actions)\n",
    "    q2 = torch.gather(q2, dim=1, index=idx.unsqueeze(-1)).squeeze(-1)\n",
    "\n",
    "    total_q2 = total_q2 + q2\n",
    "    total_q1 = total_q1 + q1\n",
    "    total_target = total_target + target_q \n",
    "    if (epoch + 1) % 100 == 0:\n",
    "        critic1_loss = F.mse_loss(total_q1, total_target)\n",
    "        agent.critic1_optimizer.zero_grad()\n",
    "        critic1_loss.backward(retain_graph=True)\n",
    "        if config['wandb_log']:\n",
    "            wandb.log({\"critic1_loss\": critic1_loss})\n",
    "        agent.critic1_optimizer.step()\n",
    "\n",
    "        critic2_loss = F.mse_loss(total_q2, total_target)\n",
    "        agent.critic2_optimizer.zero_grad()\n",
    "        critic2_loss.backward(retain_graph=True)\n",
    "        if config['wandb_log']:\n",
    "            wandb.log({\"critic2_loss\": critic2_loss})\n",
    "        agent.critic2_optimizer.step()\n",
    "\n",
    "        total_target = torch.tensor([0])\n",
    "        total_q1 = torch.tensor([0])\n",
    "        total_q2 = torch.tensor([0])\n",
    "\n",
    "        for target_param, param in zip(agent.target_critic1.parameters(), agent.critic1.parameters()):\n",
    "            target_param.data.copy_(tau * param.data + (1 - tau) * target_param.data)\n",
    "\n",
    "        for target_param, param in zip(agent.target_critic2.parameters(), agent.critic2.parameters()):\n",
    "            target_param.data.copy_(tau * param.data + (1 - tau) * target_param.data)\n",
    "        \n",
    "\n",
    "    new_actions = agent.actor.forward(states)\n",
    "    min_q = torch.min(agent.critic1(states), agent.critic2(states))\n",
    "    actor_loss = torch.tensor(-1) * (new_actions * min_q).sum(dim=1).mean() \n",
    "    total_actor_loss = total_actor_loss + actor_loss\n",
    "    if (epoch + 1) % 100 == 0:\n",
    "        agent.actor_optimizer.zero_grad()\n",
    "        actor_loss.backward(retain_graph=True)\n",
    "        if config['wandb_log']:\n",
    "            wandb.log({\"actor_loss\": actor_loss})\n",
    "        agent.actor_optimizer.step()\n",
    "        actor_loss = torch.tensor([0])"
   ]
  },
  {
   "cell_type": "code",
   "execution_count": null,
   "metadata": {},
   "outputs": [
    {
     "name": "stdout",
     "output_type": "stream",
     "text": [
      "tensor([[ 0.0041, -0.0168, -0.0362,  0.0170,  0.0262]],\n",
      "       grad_fn=<AddmmBackward>)\n",
      "tensor([[ 0.0057, -0.0110, -0.0119,  0.0455,  0.0137]],\n",
      "       grad_fn=<AddmmBackward>)\n",
      "tensor([[1.4343e-03, 6.6882e-04, 9.8924e-01, 8.3080e-03, 3.4550e-04]],\n",
      "       grad_fn=<SoftmaxBackward>)\n"
     ]
    }
   ],
   "source": [
    "agent = agent_registry[0]\n",
    "positions = torch.tensor([ \n",
    "                            #[5.5, .5, 1.5],\n",
    "                            [6.5, .5, 1.5]\n",
    "                            ])\n",
    "print(agent.critic1.forward(positions))\n",
    "print(agent.critic2.forward(positions))\n",
    "print(agent.actor.forward(positions))\n",
    "# 1, 3"
   ]
  },
  {
   "cell_type": "code",
   "execution_count": null,
   "metadata": {},
   "outputs": [
    {
     "name": "stdout",
     "output_type": "stream",
     "text": [
      "tensor([ 0.0551, -0.1621, -0.0892, -0.1390, -0.0678],\n",
      "       grad_fn=<SqueezeBackward0>)\n",
      "tensor([[0.1683, 0.1641, 0.2377, 0.2750, 0.1549]], grad_fn=<SoftmaxBackward>)\n",
      "tensor([ 0.1485, -0.0750, -0.1528, -0.0568, -0.0177],\n",
      "       grad_fn=<SqueezeBackward0>)\n",
      "tensor([[0.1549, 0.1727, 0.2399, 0.2918, 0.1407]], grad_fn=<SoftmaxBackward>)\n"
     ]
    }
   ],
   "source": [
    "low_q = agent.critic1(torch.tensor([[5.5, 0.5, 0.5]])).squeeze()\n",
    "print(low_q)\n",
    "print(agent.actor.forward(torch.tensor([[5.5, 0.5, 0.5]])))\n",
    "high_q = agent.critic1(torch.tensor([[6.5, 0.5, 1.5]])).squeeze()\n",
    "print(high_q)\n",
    "print(agent.actor.forward(torch.tensor([[6.5, 0.5, 1.5]])))"
   ]
  }
 ],
 "metadata": {
  "kernelspec": {
   "display_name": "3.7.0",
   "language": "python",
   "name": "python3"
  },
  "language_info": {
   "codemirror_mode": {
    "name": "ipython",
    "version": 3
   },
   "file_extension": ".py",
   "mimetype": "text/x-python",
   "name": "python",
   "nbconvert_exporter": "python",
   "pygments_lexer": "ipython3",
   "version": "3.7.0"
  }
 },
 "nbformat": 4,
 "nbformat_minor": 2
}
